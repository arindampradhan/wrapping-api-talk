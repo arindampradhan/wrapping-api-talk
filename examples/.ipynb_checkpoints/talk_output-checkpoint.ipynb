{
 "metadata": {
  "name": "",
  "signature": "sha256:6631842650c4d7cbafe21ccf4e783b53f4c165fb40e0df5fef996be4601da4d6"
 },
 "nbformat": 3,
 "nbformat_minor": 0,
 "worksheets": [
  {
   "cells": [
    {
     "cell_type": "code",
     "collapsed": false,
     "input": [
      "from scraping.models import User\n",
      "from pprint import pprint\n",
      "\n",
      "\n",
      "def using_your_api():\n",
      "    \"\"\"Calling a random user like jl.\"\"\"\n",
      "    user = User.get('jl')\n",
      "\n",
      "    pprint(user.__dict__)\n"
     ],
     "language": "python",
     "metadata": {},
     "outputs": [],
     "prompt_number": 3
    },
    {
     "cell_type": "code",
     "collapsed": false,
     "input": [
      "using_your_api()"
     ],
     "language": "python",
     "metadata": {},
     "outputs": [
      {
       "output_type": "stream",
       "stream": "stdout",
       "text": [
        "{'about': u'This is a test',\n",
        " 'avg': 14.68,\n",
        " 'created': u'2908 days ago',\n",
        " 'id': u'jl',\n",
        " 'karma': 3021}\n"
       ]
      }
     ],
     "prompt_number": 5
    },
    {
     "cell_type": "code",
     "collapsed": false,
     "input": [
      "from scraping.models import PH\n",
      "\n",
      "def using_your_api():\n",
      "    products = PH.an_api_method()\n",
      "    print \"This method is a simple representation of your data and the api you are providing.\\n\"\n",
      "    for product in products[:10]:\n",
      "        print 'title:{0}    upvotes:{1}'.format(product.title, product.upvote)\n",
      "        print 'tagline:', product.tagline\n",
      "        print \"link:\", product.link\n",
      "        print '---'\n"
     ],
     "language": "python",
     "metadata": {},
     "outputs": [],
     "prompt_number": 7
    },
    {
     "cell_type": "code",
     "collapsed": false,
     "input": [
      "using_your_api()"
     ],
     "language": "python",
     "metadata": {},
     "outputs": [
      {
       "output_type": "stream",
       "stream": "stdout",
       "text": [
        "This method is a simple representation of your data and the api you are providing.\n",
        "\n",
        "title:Okay?     upvotes:147\n",
        "tagline: Clear the board in this minimalistic iOS game\n",
        "link: http://www.producthunt.com/l/da9611d091\n",
        "---\n",
        "title:VLC for Mobile    upvotes:120\n",
        "tagline: World\u2019s most used media now for all major mobile platforms\n",
        "link: http://www.producthunt.com/l/8cc0702cf7\n",
        "---\n",
        "title:Digg TV    upvotes:92\n",
        "tagline: Digg\u2019s expertly curated videos on auto-play\n",
        "link: http://www.producthunt.com/l/dfaafabd44\n",
        "---\n",
        "title:CloudSight    upvotes:81\n",
        "tagline: Image Recognition API\n",
        "link: http://www.producthunt.com/l/c24344c9fe\n",
        "---\n",
        "title:Trigger    upvotes:101\n",
        "tagline: Your private Reddit\n",
        "link: http://www.producthunt.com/l/d51ff31bb9\n",
        "---\n",
        "title:Sassquatch    upvotes:46\n",
        "tagline: A zero-setup Sass previewer for OS X\n",
        "link: http://www.producthunt.com/l/7f967e0fa4\n",
        "---\n",
        "title:Bomber Bag    upvotes:60\n",
        "tagline: the best damn everyday carry bag\n",
        "link: http://www.producthunt.com/l/1d913f4917\n",
        "---\n",
        "title:Grid Diary    upvotes:80\n",
        "tagline: The simplest way to get started with keeping a diary\n",
        "link: http://www.producthunt.com/l/ee6f3cc044\n",
        "---\n",
        "title:Amazon WorkMail    upvotes:49\n",
        "tagline: Amazon's Answer to MS Exchange\n",
        "link: http://www.producthunt.com/l/667829f3da\n",
        "---\n",
        "title:Tinker Crate    upvotes:30\n",
        "tagline: Birchbox for STEM-themed DIY projects [for kids 9-14]\n",
        "link: http://www.producthunt.com/l/6aa3026bd4\n",
        "---\n"
       ]
      }
     ],
     "prompt_number": 8
    },
    {
     "cell_type": "code",
     "collapsed": false,
     "input": [
      "simple_api_call = 'https://api.coursera.org/api/catalog.v1/courses/2'\n",
      "\n",
      "an_api_call = 'https://api.coursera.org/api/catalog.v1/courses?fields=language,shortDescription'\n",
      "\n",
      "api_call = 'https://api.coursera.org/api/catalog.v1/categories?id=1&fields=name,shortName&includes=courses'\n",
      "\n",
      "complicated_api_call = 'https://api.coursera.org/api/catalog.v1/categories?id=1&fields=name,courses.fields(photo,universityLogo,language)&includes=courses'\n"
     ],
     "language": "python",
     "metadata": {},
     "outputs": [],
     "prompt_number": 9
    },
    {
     "cell_type": "code",
     "collapsed": false,
     "input": [
      "from automation.models import Course\n",
      "\n",
      "def using_your_api():\n",
      "    \"\"\"Calling a random user like jl.\"\"\"\n",
      "\n",
      "    c = Course.get_course_by_id(2)\n",
      "\n",
      "    pprint(dir(c))\n"
     ],
     "language": "python",
     "metadata": {},
     "outputs": [],
     "prompt_number": 15
    },
    {
     "cell_type": "code",
     "collapsed": false,
     "input": [
      "using_your_api()"
     ],
     "language": "python",
     "metadata": {},
     "outputs": [
      {
       "output_type": "stream",
       "stream": "stdout",
       "text": [
        "['__class__',\n",
        " '__delattr__',\n",
        " '__dict__',\n",
        " '__doc__',\n",
        " '__format__',\n",
        " '__getattribute__',\n",
        " '__hash__',\n",
        " '__init__',\n",
        " '__module__',\n",
        " '__new__',\n",
        " '__reduce__',\n",
        " '__reduce_ex__',\n",
        " '__repr__',\n",
        " '__setattr__',\n",
        " '__sizeof__',\n",
        " '__str__',\n",
        " '__subclasshook__',\n",
        " '__weakref__',\n",
        " 'aboutTheCourse',\n",
        " 'aboutTheInstructor',\n",
        " 'get_course_by_id',\n",
        " 'id']\n"
       ]
      }
     ],
     "prompt_number": 16
    },
    {
     "cell_type": "code",
     "collapsed": false,
     "input": [],
     "language": "python",
     "metadata": {},
     "outputs": []
    }
   ],
   "metadata": {}
  }
 ]
}